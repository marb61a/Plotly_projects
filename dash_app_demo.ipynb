{
 "cells": [
  {
   "cell_type": "code",
   "execution_count": null,
   "metadata": {},
   "outputs": [],
   "source": [
    "from dash import Dash, html, dcc"
   ]
  },
  {
   "attachments": {},
   "cell_type": "markdown",
   "metadata": {},
   "source": [
    "Dash applications do not require callback functions to run\n",
    "    - They are however necessary for adding interactivity based on user inputs\n",
    "\n",
    "In order to make changes each time a change is made the dash server will have to be killed and then restarted\n",
    "\n",
    "If running multiple notebooks then the port will need to be specified as the default port will already be in use\n",
    "\n",
    "Dash uses HTML layouts for the frontend of an application\n",
    "\n",
    "Familiarity with HTML and CSS can be a help when making good looking visualisations\n",
    "    - These may only be seen by a few stakeholders and data analytics is the aim so ther will be a limit"
   ]
  },
  {
   "cell_type": "code",
   "execution_count": null,
   "metadata": {},
   "outputs": [],
   "source": [
    "# This creates a Dash application\n",
    "# __name__ is a special variable used to only run a dash app if the script is being run directly\n",
    "app = Dash(__name__)\n",
    "\n",
    "app.layout = html.Div(\"Hello World\")\n",
    "\n",
    "if __name__ == \"__main__\":\n",
    "    app.run_server()"
   ]
  },
  {
   "attachments": {},
   "cell_type": "markdown",
   "metadata": {},
   "source": [
    "Instead of using Dash, the JupyterDash package can be used\n",
    "\n",
    "https://pypi.org/project/jupyter-dash/\n",
    "\n",
    "This library makes it easier to develop Dash apps from within Jupyter\n",
    "pip install jupyter-dash\n",
    "\n",
    "Using JupyterDash is highly recommended for when an app is being developed as\n",
    "it speeds up development and can be swapped out for dash when going into \n",
    "production"
   ]
  },
  {
   "cell_type": "code",
   "execution_count": null,
   "metadata": {},
   "outputs": [],
   "source": [
    "from dash import html\n",
    "from jupyter_dash import JupyterDash\n",
    "\n",
    "app = JupyterDash(__name__)\n",
    "\n",
    "app.layout = html.Div(\"Hello World\")\n",
    "\n",
    "# This runs the app in the notebook as it is being designed\n",
    "if __name__ == \"__main__\":\n",
    "    app.run_server(mode=\"inline\")"
   ]
  },
  {
   "attachments": {},
   "cell_type": "markdown",
   "metadata": {},
   "source": [
    "There are many interactive elements in Dash that can be used for adding user input\n",
    "\n",
    "        - These are added by the Dash Core Components (dcc) module\n",
    "  \n",
    "        - They include dropdowns, sliders, tabs, graphs and more\n",
    "  \n",
    "        - These elements are useless until they are processed using callback functions"
   ]
  },
  {
   "cell_type": "code",
   "execution_count": 4,
   "metadata": {},
   "outputs": [],
   "source": [
    "from dash import Dash, html, dcc\n",
    "from dash.dependencies import Output, Input\n",
    "from jupyter_dash import JupyterDash\n",
    "import pandas as pd\n",
    "import plotly.express as px\n"
   ]
  },
  {
   "cell_type": "code",
   "execution_count": null,
   "metadata": {},
   "outputs": [],
   "source": [
    "# Example color picker\n",
    "app = JupyterDash(__name__)\n",
    "\n",
    "app.layout = html.Div([\n",
    "    \"Pick a colour\",\n",
    "    dcc.Dropdown(\n",
    "        # Options will have a list of strings that populate the dropdown menu\n",
    "        options=[\"Red\", \"White\", \"Blue\", \"Green\"],\n",
    "        id=\"color-input\",\n",
    "        # This will set a default value\n",
    "        value=\"Red\"\n",
    "    )\n",
    "])\n",
    "\n",
    "if __name__ == \"__main__\":\n",
    "    app.run_server(mode=\"inline\")"
   ]
  },
  {
   "attachments": {},
   "cell_type": "markdown",
   "metadata": {},
   "source": [
    "Callback Functions\n",
    "\n",
    "        - These process user inputs and update an app accordingly\n",
    "\n",
    "        - They are triggered by a change to a property of an HTML component (input)\n",
    "  \n",
    "        - They then change the property of another HTML component (output)\n",
    "  \n",
    "        - Callbacks are defined using the @app.callback decorator\n",
    "  \n",
    "        - They have at least 2 arguments (Covering input and output) and are followed by the function itself"
   ]
  },
  {
   "cell_type": "code",
   "execution_count": null,
   "metadata": {},
   "outputs": [],
   "source": [
    "# Example color picker\n",
    "app = JupyterDash(__name__)\n",
    "\n",
    "app.layout = html.Div([\n",
    "    \"Pick a colour\",\n",
    "    dcc.Dropdown(\n",
    "        # Options will have a list of strings that populate the dropdown menu\n",
    "        options=[\"Red\", \"White\", \"Blue\", \"Green\"],\n",
    "        id=\"color-input\",\n",
    "    ),\n",
    "    html.Div(id=\"color-output\")\n",
    "])\n",
    "\n",
    "@app.callback(Output(\"color-output\", \"children\"), Input(\"color-input\", \"value\"))\n",
    "def update_output_div(color):\n",
    "    return f\"Color Selected: {color}\"\n",
    "\n",
    "if __name__ == \"__main__\":\n",
    "    app.run_server(mode=\"inline\")"
   ]
  },
  {
   "attachments": {},
   "cell_type": "markdown",
   "metadata": {},
   "source": [
    "Callback Functions run as soon as the app launches by default\n",
    "\n",
    "        - Logic can be added to prevent updates\n",
    "  \n",
    "        - Adding prevent update logic can in some cases prevent runtime errors\n",
    "  \n",
    "        - It is usually included whether a default value is used or not\n",
    "  \n",
    "        - Errors can occur due to interactive elements being in an empty state"
   ]
  },
  {
   "cell_type": "code",
   "execution_count": null,
   "metadata": {},
   "outputs": [],
   "source": [
    "# Example color picker\n",
    "app = JupyterDash(__name__)\n",
    "\n",
    "app.layout = html.Div([\n",
    "    \"Pick a colour\",\n",
    "    dcc.Dropdown(\n",
    "        # Options will have a list of strings that populate the dropdown menu\n",
    "        options=[\"Red\", \"White\", \"Blue\", \"Green\"],\n",
    "        id=\"color-input\",\n",
    "    ),\n",
    "    html.Div(id=\"color-output\")\n",
    "])\n",
    "\n",
    "@app.callback(Output(\"color-output\", \"children\"), Input(\"color-input\", \"value\"))\n",
    "def update_output_div(color):\n",
    "    # raising a PreventUpdate exception, this prevents the app from displaying text upon launch\n",
    "    if not color:\n",
    "        raise PreventUpdate\n",
    "\n",
    "    return f\"Color Selected: {color}\"\n",
    "\n",
    "if __name__ == \"__main__\":\n",
    "    app.run_server(mode=\"inline\")"
   ]
  },
  {
   "cell_type": "markdown",
   "metadata": {},
   "source": []
  },
  {
   "cell_type": "code",
   "execution_count": null,
   "metadata": {},
   "outputs": [],
   "source": []
  }
 ],
 "metadata": {
  "kernelspec": {
   "display_name": "Python 3",
   "language": "python",
   "name": "python3"
  },
  "language_info": {
   "codemirror_mode": {
    "name": "ipython",
    "version": 3
   },
   "file_extension": ".py",
   "mimetype": "text/x-python",
   "name": "python",
   "nbconvert_exporter": "python",
   "pygments_lexer": "ipython3",
   "version": "3.10.1"
  },
  "orig_nbformat": 4
 },
 "nbformat": 4,
 "nbformat_minor": 2
}
