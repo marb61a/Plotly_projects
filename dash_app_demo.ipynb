{
 "cells": [
  {
   "cell_type": "code",
   "execution_count": 2,
   "metadata": {},
   "outputs": [],
   "source": [
    "from dash import Dash, html"
   ]
  },
  {
   "attachments": {},
   "cell_type": "markdown",
   "metadata": {},
   "source": [
    "Dash applications do not require callback functions to run\n",
    "    - They are however necessary for adding interactivity based on user inputs"
   ]
  },
  {
   "cell_type": "code",
   "execution_count": 3,
   "metadata": {},
   "outputs": [
    {
     "name": "stdout",
     "output_type": "stream",
     "text": [
      "Dash is running on http://127.0.0.1:8050/\n",
      "\n",
      " * Serving Flask app '__main__' (lazy loading)\n",
      " * Environment: production\n",
      "\u001b[31m   WARNING: This is a development server. Do not use it in a production deployment.\u001b[0m\n",
      "\u001b[2m   Use a production WSGI server instead.\u001b[0m\n",
      " * Debug mode: off\n"
     ]
    },
    {
     "name": "stderr",
     "output_type": "stream",
     "text": [
      " * Running on http://127.0.0.1:8050/ (Press CTRL+C to quit)\n",
      "127.0.0.1 - - [14/Mar/2023 21:40:25] \"GET / HTTP/1.1\" 200 -\n",
      "127.0.0.1 - - [14/Mar/2023 21:40:26] \"GET /_dash-component-suites/dash/deps/polyfill@7.v2_8_1m1678829872.12.1.min.js HTTP/1.1\" 200 -\n",
      "127.0.0.1 - - [14/Mar/2023 21:40:26] \"GET /_dash-component-suites/dash/deps/react@16.v2_8_1m1678829872.14.0.min.js HTTP/1.1\" 200 -\n",
      "127.0.0.1 - - [14/Mar/2023 21:40:26] \"GET /_dash-component-suites/dash/deps/react-dom@16.v2_8_1m1678829872.14.0.min.js HTTP/1.1\" 200 -\n",
      "127.0.0.1 - - [14/Mar/2023 21:40:26] \"GET /_dash-component-suites/dash/deps/prop-types@15.v2_8_1m1678829872.8.1.min.js HTTP/1.1\" 200 -\n",
      "127.0.0.1 - - [14/Mar/2023 21:40:26] \"GET /_dash-component-suites/dash/dcc/dash_core_components.v2_8_0m1678829872.js HTTP/1.1\" 200 -\n",
      "127.0.0.1 - - [14/Mar/2023 21:40:26] \"GET /_dash-component-suites/dash/dcc/dash_core_components-shared.v2_8_0m1678829872.js HTTP/1.1\" 200 -\n",
      "127.0.0.1 - - [14/Mar/2023 21:40:26] \"GET /_dash-component-suites/dash/dash-renderer/build/dash_renderer.v2_8_1m1678829871.min.js HTTP/1.1\" 200 -\n",
      "127.0.0.1 - - [14/Mar/2023 21:40:26] \"GET /_dash-component-suites/dash/dash_table/bundle.v5_2_2m1678829871.js HTTP/1.1\" 200 -\n",
      "127.0.0.1 - - [14/Mar/2023 21:40:26] \"GET /_dash-component-suites/dash/html/dash_html_components.v2_0_8m1678829872.min.js HTTP/1.1\" 200 -\n",
      "127.0.0.1 - - [14/Mar/2023 21:40:26] \"GET /_dash-layout HTTP/1.1\" 200 -\n",
      "127.0.0.1 - - [14/Mar/2023 21:40:26] \"GET /_dash-dependencies HTTP/1.1\" 200 -\n",
      "127.0.0.1 - - [14/Mar/2023 21:40:26] \"GET /_favicon.ico?v=2.8.1 HTTP/1.1\" 200 -\n"
     ]
    }
   ],
   "source": [
    "app = Dash(__name__)\n",
    "\n",
    "app.layout = html.Div(\"Hello World\")\n",
    "\n",
    "if __name__ == \"__main__\":\n",
    "    app.run_server()"
   ]
  },
  {
   "attachments": {},
   "cell_type": "markdown",
   "metadata": {},
   "source": [
    "Instead of using Dash, the JupyterDash package can be used\n",
    "\n",
    "https://pypi.org/project/jupyter-dash/\n",
    "\n",
    "This library makes it easier to develop Dash apps from within Jupyter\n",
    "pip install jupyter-dash"
   ]
  },
  {
   "cell_type": "code",
   "execution_count": null,
   "metadata": {},
   "outputs": [],
   "source": []
  }
 ],
 "metadata": {
  "kernelspec": {
   "display_name": "Python 3",
   "language": "python",
   "name": "python3"
  },
  "language_info": {
   "codemirror_mode": {
    "name": "ipython",
    "version": 3
   },
   "file_extension": ".py",
   "mimetype": "text/x-python",
   "name": "python",
   "nbconvert_exporter": "python",
   "pygments_lexer": "ipython3",
   "version": "3.10.1"
  },
  "orig_nbformat": 4
 },
 "nbformat": 4,
 "nbformat_minor": 2
}
